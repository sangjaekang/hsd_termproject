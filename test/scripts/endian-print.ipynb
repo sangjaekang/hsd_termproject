{
 "cells": [
  {
   "cell_type": "code",
   "execution_count": null,
   "metadata": {
    "collapsed": true
   },
   "outputs": [],
   "source": [
    "import os\n",
    "import struct\n",
    "import numpy as np\n",
    "import pandas as pd"
   ]
  },
  {
   "cell_type": "markdown",
   "metadata": {},
   "source": [
    "### reference\n",
    "   - [stackoverflow](https://stackoverflow.com/questions/16444726/binary-representation-of-float-in-python-bits-not-hex)\n",
    "   - [struct 라이브러리](https://docs.python.org/3/library/struct.html#format-strings)"
   ]
  },
  {
   "cell_type": "code",
   "execution_count": null,
   "metadata": {
    "collapsed": true
   },
   "outputs": [],
   "source": [
    "def binary(num,big_endian=True, bit_16=True):\n",
    "    # big_endian : True 이면, big_endian format으로 출력, 아니면 little_endian format으로 출력\n",
    "    # bit_16 : True 이면, 16bit float으로 출력, 아니면 32bit float으로 출력\n",
    "    endian_format = \">\" if big_endian else '<'\n",
    "    bit_format = \"e\" if bit_16 else 'f'\n",
    "    num_format = endian_format + bit_format\n",
    "    struct.pack(num_format, num)\n",
    "    return ''.join(bin(c).replace('0b', '').rjust(8, '0') for c in struct.pack(num_format, num)[::-1])\n",
    "    #return ''.join(bin(c).replace('0b', '').rjust(8, '0') for c in struct.pack(num_format, num))"
   ]
  },
  {
   "cell_type": "markdown",
   "metadata": {},
   "source": [
    "| float 16| sign(1) | expo(5) | remain(10) |\n",
    "|---------|---------|---------|------------|\n",
    "| float 32| sign(1) | expo(8) | remain(23) |"
   ]
  },
  {
   "cell_type": "markdown",
   "metadata": {},
   "source": [
    "### tb_convert에 이용되는 테스트 데이터셋"
   ]
  },
  {
   "cell_type": "code",
   "execution_count": null,
   "metadata": {
    "collapsed": true
   },
   "outputs": [],
   "source": [
    "# 16bit - Big Endian value list\n",
    "with open(\"../input/tb_convert_16be.txt\",'w') as f:\n",
    "    for i in range(-10,10):\n",
    "        value = (1+2**(-3)+2**(-2)) * 2**(i)\n",
    "        line = (binary(value,big_endian=True,bit_16=True))+'0'*16 + '\\n'\n",
    "        f.write(line)\n",
    "        \n",
    "# 16bit - Big Endian & 32bit - little Endian\n",
    "df = pd.DataFrame(columns=['value','16bit-BigEndian','32bit-LittleEndian'])\n",
    "for i in range(-10,10):\n",
    "    value = (1+2**(-3)+2**(-2)) * 2**(i)\n",
    "    be_16 = (binary(value,big_endian=True,bit_16=True))+'0'*16\n",
    "    le_32 = binary(value,big_endian=False,bit_16=False)\n",
    "    df = df.append({'value':value, \"16bit-BigEndian\":be_16,\"32bit-LittleEndian\":le_32},ignore_index=True)\n",
    "df.to_csv(\"../answer/tb_convert_16be_answer.csv\",index=False,float_format=\"%03.13f\")"
   ]
  },
  {
   "cell_type": "markdown",
   "metadata": {},
   "source": [
    "### tb_basic_pe에 이용되는 테스트 데이터셋"
   ]
  },
  {
   "cell_type": "markdown",
   "metadata": {},
   "source": [
    "### 0. tb_basic_pe_ex0.txt\n",
    "    => 수업시간에 준 input.txt"
   ]
  },
  {
   "cell_type": "markdown",
   "metadata": {},
   "source": [
    "### 1. tb_basic_pe_ex1.txt"
   ]
  },
  {
   "cell_type": "markdown",
   "metadata": {},
   "source": [
    "* value type : 32bit little-endian\n",
    "\n",
    "* vector_size : 64\n",
    "\n",
    "* 출력 형태 : \n",
    "2개의 동일 길이 벡터를 곱함"
   ]
  },
  {
   "cell_type": "code",
   "execution_count": null,
   "metadata": {
    "collapsed": true
   },
   "outputs": [],
   "source": [
    "def hex_to_float(h):\n",
    "    return struct.unpack('>f',bytes.fromhex(h))[0]\n",
    "\n",
    "def float_to_hex(f):\n",
    "    return hex(struct.unpack('>I', struct.pack('>f', f))[0]).replace('0x','')\n",
    "\n",
    "def hex_to_bin(h):\n",
    "    return bin(int(h, 16))[2:].zfill(32)\n",
    "\n",
    "def bin_to_hex(b):\n",
    "    return hex(int(b,2))"
   ]
  },
  {
   "cell_type": "code",
   "execution_count": null,
   "metadata": {
    "collapsed": true
   },
   "outputs": [],
   "source": [
    "first_vector = np.linspace(0.5,2.5,num=64)\n",
    "second_vector = np.linspace(1,3,num=64)"
   ]
  },
  {
   "cell_type": "code",
   "execution_count": null,
   "metadata": {
    "collapsed": true
   },
   "outputs": [],
   "source": [
    "result = np.sum(first_vector*second_vector)\n",
    "print(\"return value:\",result,\"\\nhex value : \",float_to_hex(result))"
   ]
  },
  {
   "cell_type": "code",
   "execution_count": null,
   "metadata": {
    "collapsed": true
   },
   "outputs": [],
   "source": [
    "with open(\"../input/tb_basic_pe_ex1.txt\",'w') as file:\n",
    "    for f in first_vector:\n",
    "        file.write(float_to_hex(f)+'\\n')\n",
    "    for f in second_vector:\n",
    "        file.write(float_to_hex(f)+'\\n')"
   ]
  },
  {
   "cell_type": "markdown",
   "metadata": {},
   "source": [
    "### tb_convert_pe에 이용되는 테스트 데이터셋"
   ]
  },
  {
   "cell_type": "markdown",
   "metadata": {},
   "source": [
    "reference: https://stackoverflow.com/questions/8751653/how-to-convert-a-binary-string-into-a-float-value"
   ]
  },
  {
   "cell_type": "markdown",
   "metadata": {},
   "source": [
    "### 1. tb_convert_pe_ex1.txt"
   ]
  },
  {
   "cell_type": "code",
   "execution_count": null,
   "metadata": {
    "collapsed": true
   },
   "outputs": [],
   "source": [
    "# default : little-endian\n",
    "def bin_to_float(binary):\n",
    "    return struct.unpack('<f',struct.pack('<I', int(binary, 2)))[0]\n",
    "# default : little-endian\n",
    "def float_to_bin(num):\n",
    "    return bin(struct.unpack('!I', struct.pack('!f', num))[0])[2:].zfill(32)"
   ]
  },
  {
   "cell_type": "code",
   "execution_count": null,
   "metadata": {
    "collapsed": true
   },
   "outputs": [],
   "source": [
    "first_vector = np.linspace(0.5,2.5,num=64)\n",
    "second_vector = np.linspace(1,3,num=64)"
   ]
  },
  {
   "cell_type": "code",
   "execution_count": null,
   "metadata": {
    "collapsed": true
   },
   "outputs": [],
   "source": [
    "with open(\"../input/tb_convert_pe_ex1.txt\",'w') as file:\n",
    "    for value in first_vector:        \n",
    "        le_32 = binary(value,big_endian=True,bit_16=True)\n",
    "        file.write(le_32+'0'*16+\"\\n\")\n",
    "    for value in second_vector:\n",
    "        le_32 = binary(value,big_endian=True,bit_16=True)\n",
    "        file.write(le_32+'0'*16+\"\\n\")"
   ]
  },
  {
   "cell_type": "code",
   "execution_count": null,
   "metadata": {
    "collapsed": true
   },
   "outputs": [],
   "source": [
    "result = np.sum(first_vector*second_vector)\n",
    "\n",
    "print(\"return value:\",result,\"\\nhex value : \",\n",
    "      binary(result,big_endian=False,bit_16=False))\n",
    "\n",
    "print(\"zynq - bit: \",'01000011010101011111111011101011')\n",
    "print(\"zynq - result : \",bin_to_float('01000011010101011111111011101011'))"
   ]
  },
  {
   "cell_type": "markdown",
   "metadata": {},
   "source": [
    "### tb_matrix_pe에 이용되는 테스트 데이터셋"
   ]
  },
  {
   "cell_type": "markdown",
   "metadata": {},
   "source": [
    "#### mini-size 버전"
   ]
  },
  {
   "cell_type": "code",
   "execution_count": null,
   "metadata": {},
   "outputs": [],
   "source": [
    "# input_value\n",
    "matrix = np.zeros((16,16),dtype=float)\n",
    "for i in range(1,16+1):\n",
    "    matrix[i-1] = np.linspace(0.5*i,2.5*i,num=16)\n",
    "\n",
    "vector = np.linspace(1,3,num=16)\n",
    "\n",
    "# result \n",
    "result = np.sum(matrix*vector,axis=1)\n",
    "for i in range(16):\n",
    "    print(\"[{:02}]번째 결과 : {}[{}]\".\n",
    "          format(i,binary(result[i],big_endian=False,bit_16=False),result[i]))"
   ]
  },
  {
   "cell_type": "code",
   "execution_count": null,
   "metadata": {
    "scrolled": true
   },
   "outputs": [],
   "source": [
    "# input file\n",
    "with open(\"../input/tb_matrix_pe_ex0.txt\",'w') as file:\n",
    "    for i in range(16):\n",
    "        for j in range(16):\n",
    "            be_16 = binary(matrix[i,j],big_endian=True,bit_16=True)\n",
    "            print(\"matrix[{},{}] : {}\".format(i,j,be_16))\n",
    "            file.write(be_16+'0'*16+\"\\n\")\n",
    "\n",
    "    for idx, value in enumerate(vector):\n",
    "        be_16 = binary(value,big_endian=True,bit_16=True)\n",
    "        print(\"vector[{}]  : {}\".format(idx, be_16))\n",
    "        file.write(be_16+'0'*16+\"\\n\")\n",
    "        \n",
    "# result\n",
    "df = pd.DataFrame(columns=['index','value','bit'])\n",
    "\n",
    "for i in range(16):\n",
    "    df = df.append({\n",
    "        \"index\":\"{:02}\".format(i),\n",
    "        \"value\":result[i],\n",
    "        \"bit\":binary(result[i],big_endian=False,bit_16=False)\n",
    "    },ignore_index=True)\n",
    "    \n",
    "df.to_csv(\"../answer/tb_matrix_pe_ex0_answer.csv\",index=False,float_format=\"%03.13f\")"
   ]
  },
  {
   "cell_type": "code",
   "execution_count": null,
   "metadata": {},
   "outputs": [],
   "source": [
    "result_df = pd.read_csv(\"../answer/tb_matrix_pe_ex0_out.txt\",header=None,names=['result'])\n",
    "df['result_value'] = result_df.result[:16].apply(lambda x : bin_to_float(x))\n",
    "df['result_bit'] = result_df.result[:16]\n",
    "df['error_rate'] = np.abs(df.value - df.result_value) / df.value * 100"
   ]
  },
  {
   "cell_type": "code",
   "execution_count": null,
   "metadata": {},
   "outputs": [],
   "source": [
    "df"
   ]
  },
  {
   "cell_type": "markdown",
   "metadata": {},
   "source": [
    "#### 64x64 size 버젼"
   ]
  },
  {
   "cell_type": "code",
   "execution_count": null,
   "metadata": {
    "scrolled": true
   },
   "outputs": [],
   "source": [
    "# input_value\n",
    "matrix = np.zeros((64,64),dtype=float)\n",
    "for i in range(1,64+1):\n",
    "    matrix[i-1] = np.linspace(0.5*i,2.5*i,num=64)\n",
    "\n",
    "vector = np.linspace(1,3,num=64)\n",
    "\n",
    "# result \n",
    "result = np.sum(matrix*vector,axis=1)\n",
    "for i in range(64):\n",
    "    print(\"[{:02}]번째 결과 : {}[{}]\".\n",
    "          format(i,binary(result[i],big_endian=False,bit_16=False),result[i]))"
   ]
  },
  {
   "cell_type": "code",
   "execution_count": null,
   "metadata": {},
   "outputs": [],
   "source": [
    "with open(\"../input/tb_matrix_pe_ex1.txt\",'w') as file:\n",
    "    for i in range(64):\n",
    "        for j in range(64):\n",
    "            be_16 = binary(matrix[i,j],big_endian=True,bit_16=True)\n",
    "            print(\"matrix[{},{}] : {}\".format(i,j,be_16))\n",
    "            file.write(be_16+'0'*16+\"\\n\")\n",
    "\n",
    "    for idx, value in enumerate(vector):\n",
    "        be_16 = binary(value,big_endian=True,bit_16=True)\n",
    "        print(\"vector[{}]  : {}\".format(idx, be_16))\n",
    "        file.write(be_16+'0'*16+\"\\n\")\n",
    "        \n",
    "# result\n",
    "df = pd.DataFrame(columns=['index','value','bit'])\n",
    "\n",
    "for i in range(64):\n",
    "    df = df.append({\n",
    "        \"index\":\"{:02}\".format(i),\n",
    "        \"value\":result[i],\n",
    "        \"bit\":binary(result[i],big_endian=False,bit_16=False)\n",
    "    },ignore_index=True)\n",
    "    \n",
    "df.to_csv(\"../answer/tb_matrix_pe_ex1_answer.csv\",index=False,float_format=\"%03.13f\")"
   ]
  },
  {
   "cell_type": "markdown",
   "metadata": {},
   "source": [
    "### 오차율 계산"
   ]
  },
  {
   "cell_type": "code",
   "execution_count": null,
   "metadata": {
    "collapsed": true
   },
   "outputs": [],
   "source": [
    "result_df = pd.read_csv(\"./tb_matrix_pe_ex1_out.txt\",header=None,names=['result'])\n",
    "df['result_value'] = result_df.result[:64].apply(lambda x : bin_to_float(x))\n",
    "df['result_bit'] = result_df.result[:64]\n",
    "df['error_rate'] = np.abs(df.value - df.result_value) / df.value * 100"
   ]
  },
  {
   "cell_type": "markdown",
   "metadata": {},
   "source": [
    "------------------------------------------------------\n",
    "------------------------------------------------------"
   ]
  },
  {
   "cell_type": "code",
   "execution_count": null,
   "metadata": {},
   "outputs": [],
   "source": [
    "input_df = pd.read_csv(\"../input/input.txt\",header=None,names=['input'])\n",
    "input_df = input_df.input.apply(lambda num : binary(num,big_endian=True, bit_16=True)+'0'*16)\n",
    "input_df.to_csv(\"../input/tb_matrix_pe_ex2.txt\",index=False,header=False)"
   ]
  },
  {
   "cell_type": "code",
   "execution_count": null,
   "metadata": {
    "collapsed": true
   },
   "outputs": [],
   "source": [
    "df = pd.read_csv(\"../input/input.txt\",header=None,names=['input'])\n",
    "mat = df[:64*64].values.reshape((64,64))\n",
    "vec = df[64*64:].values\n",
    "\n",
    "mat = mat.astype(np.float16).astype(np.float32)\n",
    "vec = vec.astype(np.float16).astype(np.float32)"
   ]
  },
  {
   "cell_type": "code",
   "execution_count": null,
   "metadata": {},
   "outputs": [],
   "source": [
    "result =np.sum(mat * vec.reshape((1,64)),axis=1,dtype=np.float)"
   ]
  },
  {
   "cell_type": "code",
   "execution_count": null,
   "metadata": {},
   "outputs": [],
   "source": [
    "result_df = pd.read_csv(\"../answer/tb_matrix_pe_ex2_out.txt\",header=None,names=['result'])\n",
    "\n",
    "df = pd.DataFrame()\n",
    "df['value'] = result\n",
    "df['result_value'] = result_df.result[:64].apply(lambda x : bin_to_float(x))\n",
    "df['result_bit'] = result_df.result[:64]\n",
    "df['error_rate'] = np.abs(df.value - df.result_value) / df.value * 100"
   ]
  },
  {
   "cell_type": "code",
   "execution_count": null,
   "metadata": {},
   "outputs": [],
   "source": [
    "df"
   ]
  }
 ],
 "metadata": {
  "kernelspec": {
   "display_name": "Python 3",
   "language": "python",
   "name": "python3"
  },
  "language_info": {
   "codemirror_mode": {
    "name": "ipython",
    "version": 3
   },
   "file_extension": ".py",
   "mimetype": "text/x-python",
   "name": "python",
   "nbconvert_exporter": "python",
   "pygments_lexer": "ipython3",
   "version": "3.6.3"
  }
 },
 "nbformat": 4,
 "nbformat_minor": 2
}
