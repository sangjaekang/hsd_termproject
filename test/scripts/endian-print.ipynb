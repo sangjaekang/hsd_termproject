{
 "cells": [
  {
   "cell_type": "code",
   "execution_count": null,
   "metadata": {
    "collapsed": true
   },
   "outputs": [],
   "source": [
    "import os\n",
    "import struct\n",
    "import numpy as np\n",
    "import pandas as pd"
   ]
  },
  {
   "cell_type": "markdown",
   "metadata": {},
   "source": [
    "### reference\n",
    "   - [stackoverflow](https://stackoverflow.com/questions/16444726/binary-representation-of-float-in-python-bits-not-hex)\n",
    "   - [struct 라이브러리](https://docs.python.org/3/library/struct.html#format-strings)"
   ]
  },
  {
   "cell_type": "code",
   "execution_count": null,
   "metadata": {
    "collapsed": true
   },
   "outputs": [],
   "source": [
    "def binary(num,big_endian=True, bit_16=True):\n",
    "    # big_endian : True 이면, big_endian format으로 출력, 아니면 little_endian format으로 출력\n",
    "    # bit_16 : True 이면, 16bit float으로 출력, 아니면 32bit float으로 출력\n",
    "    endian_format = \">\" if big_endian else '<'\n",
    "    bit_format = \"e\" if bit_16 else 'f'\n",
    "    num_format = endian_format + bit_format\n",
    "    struct.pack(num_format, num)\n",
    "    return ''.join(bin(c).replace('0b', '').rjust(8, '0') for c in struct.pack(num_format, num)[::-1])"
   ]
  },
  {
   "cell_type": "markdown",
   "metadata": {},
   "source": [
    "| float 16| sign(1) | expo(5) | remain(10) |\n",
    "|---------|---------|---------|------------|\n",
    "| float 32| sign(1) | expo(8) | remain(23) |"
   ]
  },
  {
   "cell_type": "markdown",
   "metadata": {},
   "source": [
    "### tb_convert에 이용되는 테스트 데이터셋"
   ]
  },
  {
   "cell_type": "code",
   "execution_count": null,
   "metadata": {
    "collapsed": true
   },
   "outputs": [],
   "source": [
    "# 16bit - Big Endian value list\n",
    "with open(\"../input/tb_convert_16be.txt\",'w') as f:\n",
    "    for i in range(-10,10):\n",
    "        value = (1+2**(-3)+2**(-2)) * 2**(i)\n",
    "        line = (binary(value,big_endian=True,bit_16=True))+'0'*16 + '\\n'\n",
    "        f.write(line)\n",
    "        \n",
    "# 16bit - Big Endian & 32bit - little Endian\n",
    "df = pd.DataFrame(columns=['value','16bit-BigEndian','32bit-LittleEndian'])\n",
    "for i in range(-10,10):\n",
    "    value = (1+2**(-3)+2**(-2)) * 2**(i)\n",
    "    be_16 = (binary(value,big_endian=True,bit_16=True))+'0'*16\n",
    "    le_32 = binary(value,big_endian=False,bit_16=False)\n",
    "    df = df.append({'value':value, \"16bit-BigEndian\":be_16,\"32bit-LittleEndian\":le_32},ignore_index=True)\n",
    "df.to_csv(\"../answer/tb_convert_16be_answer.csv\",index=False,float_format=\"%03.13f\")"
   ]
  },
  {
   "cell_type": "markdown",
   "metadata": {},
   "source": [
    "### tb_basic_pe에 이용되는 테스트 데이터셋"
   ]
  },
  {
   "cell_type": "markdown",
   "metadata": {},
   "source": [
    "### 0. tb_basic_pe_ex0.txt\n",
    "    => 수업시간에 준 input.txt"
   ]
  },
  {
   "cell_type": "markdown",
   "metadata": {},
   "source": [
    "### 1. tb_basic_pe_ex1.txt"
   ]
  },
  {
   "cell_type": "markdown",
   "metadata": {},
   "source": [
    "* value type : 32bit little-endian\n",
    "\n",
    "* vector_size : 64\n",
    "\n",
    "* 출력 형태 : \n",
    "2개의 동일 길이 벡터를 곱함"
   ]
  },
  {
   "cell_type": "code",
   "execution_count": null,
   "metadata": {
    "collapsed": true
   },
   "outputs": [],
   "source": [
    "def hex_to_float(h):\n",
    "    return struct.unpack('>f',bytes.fromhex(h))[0]"
   ]
  },
  {
   "cell_type": "code",
   "execution_count": null,
   "metadata": {
    "collapsed": true
   },
   "outputs": [],
   "source": [
    "def float_to_hex(f):\n",
    "    return hex(struct.unpack('>I', struct.pack('>f', f))[0]).replace('0x','')"
   ]
  },
  {
   "cell_type": "code",
   "execution_count": null,
   "metadata": {},
   "outputs": [],
   "source": [
    "first_vector = np.linspace(0.5,2.5,num=64)\n",
    "second_vector = np.linspace(1,3,num=64)"
   ]
  },
  {
   "cell_type": "code",
   "execution_count": null,
   "metadata": {},
   "outputs": [],
   "source": [
    "result = np.sum(first_vector*second_vector)\n",
    "print(\"return value:\",result,\"\\nhex value : \",float_to_hex(result))"
   ]
  },
  {
   "cell_type": "code",
   "execution_count": null,
   "metadata": {},
   "outputs": [],
   "source": [
    "with open(\"../input/tb_basic_pe_ex1.txt\",'w') as file:\n",
    "    for f in first_vector:\n",
    "        file.write(float_to_hex(f)+'\\n')\n",
    "    for f in second_vector:\n",
    "        file.write(float_to_hex(f)+'\\n')"
   ]
  }
 ],
 "metadata": {
  "kernelspec": {
   "display_name": "Python 3",
   "language": "python",
   "name": "python3"
  },
  "language_info": {
   "codemirror_mode": {
    "name": "ipython",
    "version": 3
   },
   "file_extension": ".py",
   "mimetype": "text/x-python",
   "name": "python",
   "nbconvert_exporter": "python",
   "pygments_lexer": "ipython3",
   "version": "3.6.3"
  }
 },
 "nbformat": 4,
 "nbformat_minor": 2
}
